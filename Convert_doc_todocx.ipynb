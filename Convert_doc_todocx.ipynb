{
 "cells": [
  {
   "cell_type": "code",
   "execution_count": 1,
   "id": "9f7b2ccc-ab20-4bde-93ce-d3abda90a061",
   "metadata": {},
   "outputs": [
    {
     "name": "stdout",
     "output_type": "stream",
     "text": [
      "Peoplesoft Admin_G Ananda Rayudu.doc\n",
      "Peoplesoft Admin_Gangareddy.doc\n",
      "Peoplesoft Admin_Priyanka Ramadoss.doc\n",
      "Peoplesoft Admin_srinivasarao.doc\n",
      "Peoplesoft Admin_Vinod Akkala.doc\n",
      "PeopleSoft DBA_Ganesh Alladi.doc\n",
      "Peoplesoft Finance_Arun Venu.doc\n",
      "Peoplesoft Finance_Pritam Biswas.doc\n",
      "Peoplesoft Finance_Rahul Ahuja.doc\n",
      "Peoplesoft FSCM_R Ahmed.doc\n",
      "~$oplesoft Admin_G Ananda Rayudu.doc\n",
      "~$oplesoft Admin_Gangareddy.doc\n",
      "~$oplesoft Admin_Priyanka Ramadoss.doc\n",
      "~$oplesoft Admin_srinivasarao.doc\n",
      "~$oplesoft Admin_Vinod Akkala.doc\n",
      "~$opleSoft DBA_Ganesh Alladi.doc\n",
      "~$oplesoft Finance_Arun Venu.doc\n",
      "~$oplesoft Finance_Pritam Biswas.doc\n",
      "~$oplesoft Finance_Rahul Ahuja.doc\n",
      "~$oplesoft FSCM_R Ahmed.doc\n",
      "React Developer_PavasGoswami.doc\n",
      "React Developer_Vinay Reddy.doc\n",
      "React JS Developer_AnjaniPriyadarshini.doc\n",
      "~$act Developer_PavasGoswami.doc\n",
      "~$act Developer_Vinay Reddy.doc\n",
      "~$act JS Developer_AnjaniPriyadarshini.doc\n",
      "Nazeer Basha.doc\n",
      "Priyanka L.doc\n",
      "Tatikonda Kiran Kumar.doc\n",
      "~$iyanka L.doc\n",
      "~$tikonda Kiran Kumar.doc\n",
      "~$zeer Basha.doc\n",
      "Hari Krishna M_Hexaware.doc\n",
      "Harikrishna Akula_Hexaware.doc\n",
      "Hima Mendu_Hexaware.doc\n",
      "J. Sumanth Royal_Hexaware.doc\n",
      "Madeeswar A_Hexaware.doc\n",
      "Naresh Babu Cherukuri_Hexaware.doc\n",
      "Punugoti Swetha_Hexaware.doc\n",
      "ShireeshKumar_Hexaware.doc\n",
      "Sri Krishna S_Hexaware.doc\n",
      "Venkateswarlu B_Hexaware.doc\n",
      "~$ Sumanth Royal_Hexaware.doc\n",
      "~$deeswar A_Hexaware.doc\n",
      "~$i Krishna S_Hexaware.doc\n",
      "~$ireeshKumar_Hexaware.doc\n",
      "~$ma Mendu_Hexaware.doc\n",
      "~$nkateswarlu B_Hexaware.doc\n",
      "~$nugoti Swetha_Hexaware.doc\n",
      "~$resh Babu Cherukuri_Hexaware.doc\n",
      "~$ri Krishna M_Hexaware.doc\n",
      "~$rikrishna Akula_Hexaware.doc\n"
     ]
    }
   ],
   "source": [
    "import os\n",
    "from win32com import client as wc\n",
    "def find_doc_files(folder_path):\n",
    "    # List to store paths of all .doc files\n",
    "    doc_files = []\n",
    "\n",
    "    # Walk through the directory and its subdirectories\n",
    "    for root, dirs, files in os.walk(folder_path):\n",
    "        for file in files:\n",
    "            # Check if the file has a .doc extension (case-insensitive)\n",
    "            if file.lower().endswith('.doc'):\n",
    "                doc_files.append(os.path.join(root, file))  # Add the full file path to the list\n",
    "    \n",
    "    return doc_files\n",
    "\n",
    "# Example usage\n",
    "folder_path = r'C:\\Users\\Lenovo\\Dassde\\Resumes_Classification\\Resumes_Docx'  # Replace with your desired directory path\n",
    "doc_files = find_doc_files(folder_path)\n",
    "\n",
    "# Print out the found .doc files\n",
    "for doc_file in doc_files:\n",
    "    w = wc.Dispatch('Word.Application')\n",
    "    doc = w.Documents.Open(os.path.abspath(doc_file))\n",
    "    newfile= doc_file+\"x\"\n",
    "    doc.SaveAs(newfile,16)\n",
    "    \n",
    "    print(doc)"
   ]
  },
  {
   "cell_type": "code",
   "execution_count": 39,
   "id": "039e7b2d-b897-4c5c-95fa-709b81abd164",
   "metadata": {},
   "outputs": [],
   "source": [
    "import re\n",
    "\n",
    "def extract_experience(text):\n",
    "    # Regex to match patterns like \"6 years\", \"6+ years\", \"3.5 years\", etc.\n",
    "    experience_pattern = r'(\\d+(\\.\\d+)?\\+?)\\s*(years|year|yr|yrs|months|month|mo|mos)'\n",
    "    matches = re.findall(experience_pattern, text, re.IGNORECASE)\n",
    "    \n",
    "    # Aggregate total years of experience if multiple matches are found\n",
    "    total_years = 0\n",
    "    for match in matches:\n",
    "        value = float(match[0].replace('+', ''))  # Convert the first captured group to a float\n",
    "        unit = match[2].lower()  # The unit part (e.g., \"years\", \"months\")\n",
    "\n",
    "        # Convert months to years if needed\n",
    "        if 'month' in unit or 'mo' in unit:\n",
    "            value /= 12  # Convert months to years\n",
    "        \n",
    "        total_years += value\n",
    "\n",
    "    # Return the total years of experience\n",
    "    return f\"{total_years:.1f} years\" if total_years > 0 else \"0 years\""
   ]
  },
  {
   "cell_type": "code",
   "execution_count": 40,
   "id": "2d3f45ff-5582-4c79-ba85-85f79578c1a0",
   "metadata": {},
   "outputs": [
    {
     "name": "stdout",
     "output_type": "stream",
     "text": [
      "6.0 years\n",
      "[]\n"
     ]
    }
   ],
   "source": [
    "# Example usage\n",
    "text = \"\"\"\n",
    "Having 6+ years of experience in Workday as a Workday Consultant, and involved in Workday HCM|FCM,  security ,support and enhancement Projects.\n",
    "\n",
    "\"\"\"\n",
    "\n",
    "print(extract_experience(text))\n",
    "print(extract_experience1(text))"
   ]
  },
  {
   "cell_type": "code",
   "execution_count": null,
   "id": "02f5adcb-1e53-4dba-bfad-028f4affce08",
   "metadata": {},
   "outputs": [],
   "source": []
  }
 ],
 "metadata": {
  "kernelspec": {
   "display_name": "Python 3 (ipykernel)",
   "language": "python",
   "name": "python3"
  },
  "language_info": {
   "codemirror_mode": {
    "name": "ipython",
    "version": 3
   },
   "file_extension": ".py",
   "mimetype": "text/x-python",
   "name": "python",
   "nbconvert_exporter": "python",
   "pygments_lexer": "ipython3",
   "version": "3.11.7"
  }
 },
 "nbformat": 4,
 "nbformat_minor": 5
}
